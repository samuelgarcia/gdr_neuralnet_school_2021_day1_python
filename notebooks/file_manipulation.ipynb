{
 "cells": [
  {
   "cell_type": "markdown",
   "metadata": {},
   "source": [
    "___\n",
    "# Manipulation de fichiers\n",
    "___"
   ]
  },
  {
   "cell_type": "markdown",
   "metadata": {},
   "source": [
    "# open\n",
    "\n",
    "Le mode est donné sous la forme d'une chaîne de caractères. Voici les principaux modes :\n",
    "\n",
    "    'r' : ouverture en lecture (Read).\n",
    "\n",
    "    'w' : ouverture en écriture (Write). Le contenu du fichier est écrasé. Si le fichier n'existe pas, il est créé.\n",
    "\n",
    "    'a' : ouverture en écriture en mode ajout (Append). On écrit à la fin du fichier sans écraser l'ancien contenu du fichier. Si le fichier n'existe pas, il est créé.\n",
    "    "
   ]
  },
  {
   "cell_type": "code",
   "execution_count": 2,
   "metadata": {},
   "outputs": [
    {
     "data": {
      "text/plain": [
       "3"
      ]
     },
     "execution_count": 2,
     "metadata": {},
     "output_type": "execute_result"
    }
   ],
   "source": [
    "f = open(\"toto.txt\",mode='w')\n",
    "f.write('yep')"
   ]
  },
  {
   "cell_type": "markdown",
   "metadata": {},
   "source": [
    "# close\n",
    "\n",
    "Lorsque l'on a fini de manipuler un fichier ouvert, il est normalement necessaire de le fermer, pour liberer les ressources liées à ce fichier"
   ]
  },
  {
   "cell_type": "code",
   "execution_count": 3,
   "metadata": {},
   "outputs": [],
   "source": [
    "f.close()"
   ]
  },
  {
   "cell_type": "markdown",
   "metadata": {},
   "source": [
    "# with"
   ]
  },
  {
   "cell_type": "markdown",
   "metadata": {},
   "source": [
    "La \"vraie\" maniere de faire consiste a utiliser le mot-clé \"with\". Ceci evite d'avoir à fermer explicitement le fichier avec close"
   ]
  },
  {
   "cell_type": "code",
   "execution_count": 4,
   "metadata": {},
   "outputs": [
    {
     "name": "stdout",
     "output_type": "stream",
     "text": [
      "False\n",
      "True\n"
     ]
    }
   ],
   "source": [
    "with open(\"toto.txt\",'r') as f:  # le fichier existe à l'avance sinon error\n",
    "    print(f.closed) ## closed (et pas 'close') est un marqueur booleen indiquant si le fichier est ouvert ou fermé\n",
    "print(f.closed)\n"
   ]
  },
  {
   "cell_type": "markdown",
   "metadata": {},
   "source": [
    "# read"
   ]
  },
  {
   "cell_type": "code",
   "execution_count": 7,
   "metadata": {},
   "outputs": [
    {
     "name": "stdout",
     "output_type": "stream",
     "text": [
      "val :  yep\n"
     ]
    }
   ],
   "source": [
    "### je veux voir le contenu de mon fichier\n",
    "with open(\"toto.txt\",'r') as f:\n",
    "    val = f.read() \n",
    "print('val : ', val)"
   ]
  },
  {
   "cell_type": "markdown",
   "metadata": {},
   "source": [
    "tout le contenu du fichier est lu d'un coup"
   ]
  },
  {
   "cell_type": "markdown",
   "metadata": {},
   "source": [
    "# readlines"
   ]
  },
  {
   "cell_type": "code",
   "execution_count": 11,
   "metadata": {},
   "outputs": [],
   "source": [
    "# let write a multi line\n",
    "txt = \"\"\"yep\n",
    "yop\n",
    "yip\n",
    "\"\"\"\n",
    "with open(\"toto2.txt\",'w') as f:\n",
    "    f.write(txt)"
   ]
  },
  {
   "cell_type": "code",
   "execution_count": 12,
   "metadata": {},
   "outputs": [
    {
     "name": "stdout",
     "output_type": "stream",
     "text": [
      "['yep\\n', 'yop\\n', 'yip\\n']\n"
     ]
    }
   ],
   "source": [
    "### je veux voir le contenu de mon fichier ligne par ligne\n",
    "f = open(\"toto2.txt\",'r')\n",
    "lines = f.readlines()\n",
    "f.close()\n",
    "print(lines)"
   ]
  },
  {
   "cell_type": "markdown",
   "metadata": {},
   "source": [
    "# Lecture de données"
   ]
  },
  {
   "cell_type": "markdown",
   "metadata": {},
   "source": [
    "## \"A l'ancienne\""
   ]
  },
  {
   "cell_type": "code",
   "execution_count": 13,
   "metadata": {},
   "outputs": [
    {
     "name": "stdout",
     "output_type": "stream",
     "text": [
      "(20, 3)\n",
      "[[-12  56   4]\n",
      " [  6  50  12]\n",
      " [  8  36   2]\n",
      " [ 24  24 -18]\n",
      " [-12  22  28]\n",
      " [-12  22  26]\n",
      " [-32  20 -18]\n",
      " [-28  16  32]\n",
      " [-48  14   8]\n",
      " [-10  10  44]\n",
      " [-34   8  38]\n",
      " [  4   6  50]\n",
      " [  4   6  50]\n",
      " [ 10   4  74]\n",
      " [ -2   4  44]\n",
      " [ 24   4 -10]\n",
      " [ 24   4 -16]\n",
      " [ 40   2  62]\n",
      " [-54   2  38]\n",
      " [-26  -4  70]]\n"
     ]
    }
   ],
   "source": [
    "import numpy as np\n",
    "with open('./data/Coords.txt', 'r') as f:\n",
    "    \n",
    "    tab = []\n",
    "    for line in f.readlines():\n",
    "        \n",
    "        val = line.strip().split('\\t') # on découpe la ligne autours des \\t sans les caractères en plus (\\n)\n",
    "        val = list(map(int,val)) ### string to integer\n",
    "        \n",
    "        tab.append(val)\n",
    "        \n",
    "    data = np.array(tab)\n",
    "    \n",
    "    print (data.shape)\n",
    "    print(data)\n",
    "    "
   ]
  },
  {
   "cell_type": "markdown",
   "metadata": {},
   "source": [
    "# csv"
   ]
  },
  {
   "cell_type": "code",
   "execution_count": 14,
   "metadata": {},
   "outputs": [
    {
     "name": "stdout",
     "output_type": "stream",
     "text": [
      "['-12\\t56\\t4']\n",
      "['6\\t50\\t12']\n",
      "['8\\t36\\t2']\n",
      "['24\\t24\\t-18']\n",
      "['-12\\t22\\t28']\n",
      "['-12\\t22\\t26']\n",
      "['-32\\t20\\t-18']\n",
      "['-28\\t16\\t32']\n",
      "['-48\\t14\\t8']\n",
      "['-10\\t10\\t44']\n",
      "['-34\\t8\\t38']\n",
      "['4\\t6\\t50']\n",
      "['4\\t6\\t50']\n",
      "['10\\t4\\t74']\n",
      "['-2\\t4\\t44']\n",
      "['24\\t4\\t-10']\n",
      "['24\\t4\\t-16']\n",
      "['40\\t2\\t62']\n",
      "['-54\\t2\\t38']\n",
      "['-26\\t-4\\t70']\n"
     ]
    }
   ],
   "source": [
    "import csv\n",
    "\n",
    "with open('./data/Coords.txt', 'r') as f:\n",
    "    \n",
    "    reader = csv.reader(f)\n",
    "    \n",
    "    for row in reader:\n",
    "        print (row)\n"
   ]
  },
  {
   "cell_type": "code",
   "execution_count": 15,
   "metadata": {},
   "outputs": [
    {
     "name": "stdout",
     "output_type": "stream",
     "text": [
      "[[-12, 56, 4], [6, 50, 12], [8, 36, 2], [24, 24, -18], [-12, 22, 28], [-12, 22, 26], [-32, 20, -18], [-28, 16, 32], [-48, 14, 8], [-10, 10, 44], [-34, 8, 38], [4, 6, 50], [4, 6, 50], [10, 4, 74], [-2, 4, 44], [24, 4, -10], [24, 4, -16], [40, 2, 62], [-54, 2, 38], [-26, -4, 70]]\n",
      "[[-12  56   4]\n",
      " [  6  50  12]\n",
      " [  8  36   2]\n",
      " [ 24  24 -18]\n",
      " [-12  22  28]\n",
      " [-12  22  26]\n",
      " [-32  20 -18]\n",
      " [-28  16  32]\n",
      " [-48  14   8]\n",
      " [-10  10  44]\n",
      " [-34   8  38]\n",
      " [  4   6  50]\n",
      " [  4   6  50]\n",
      " [ 10   4  74]\n",
      " [ -2   4  44]\n",
      " [ 24   4 -10]\n",
      " [ 24   4 -16]\n",
      " [ 40   2  62]\n",
      " [-54   2  38]\n",
      " [-26  -4  70]]\n"
     ]
    }
   ],
   "source": [
    "### par default, \n",
    "with open('./data/Coords.txt', 'r') as f:\n",
    "   \n",
    "    reader = csv.reader(f,delimiter = '\\t')\n",
    "    list_vals = []\n",
    "    \n",
    "    for row in reader:\n",
    "        list_vals.append(list(map(int,row)))\n",
    "    \n",
    "    print(list_vals)\n",
    "    \n",
    "    data= np.array(list_vals)\n",
    "    print(data)\n",
    "    \n",
    "    \n"
   ]
  },
  {
   "cell_type": "markdown",
   "metadata": {},
   "source": [
    "# Lecture string/bytes et importance de l'encoding (UTF-8)\n"
   ]
  },
  {
   "cell_type": "code",
   "execution_count": 18,
   "metadata": {},
   "outputs": [
    {
     "name": "stdout",
     "output_type": "stream",
     "text": [
      "b\"Ceci est une chaine d'octets\"\n",
      "<class 'bytes'>\n",
      "115\n",
      "Ceci est une chaine de caractères particuliers 你好\n",
      "<class 'str'>\n",
      "好\n"
     ]
    }
   ],
   "source": [
    "chaine1 = b\"Ceci est une chaine d'octets\"\n",
    "\n",
    "print(chaine1)\n",
    "print(type(chaine1))\n",
    "print(chaine1[-1])\n",
    "\n",
    "chaine2 = \"Ceci est une chaine de caractères particuliers 你好\"\n",
    "\n",
    "print(chaine2)\n",
    "print(type(chaine2))\n",
    "print(chaine2[-1])\n"
   ]
  },
  {
   "cell_type": "code",
   "execution_count": 21,
   "metadata": {},
   "outputs": [],
   "source": [
    "# lets put this 2 object in the same file\n",
    "with open(\"chaine.txt\",'wb') as f:\n",
    "    f.write(chaine1)\n",
    "\n",
    "with open(\"chaine.txt\",'a') as f:\n",
    "    f.write('\\n')\n",
    "    f.write(chaine2)"
   ]
  },
  {
   "cell_type": "code",
   "execution_count": 25,
   "metadata": {},
   "outputs": [
    {
     "name": "stdout",
     "output_type": "stream",
     "text": [
      "Ceci est une chaine d'octets\n",
      "Ceci est une chaine de caractères particuliers 你好 <class 'str'> 78\n"
     ]
    }
   ],
   "source": [
    "with open('chaine.txt', mode= 'r', encoding='utf8') as f:\n",
    "    txt = f.read()\n",
    "print(txt, type(txt), len(txt))"
   ]
  },
  {
   "cell_type": "code",
   "execution_count": 26,
   "metadata": {},
   "outputs": [
    {
     "name": "stdout",
     "output_type": "stream",
     "text": [
      "b\"Ceci est une chaine d'octets\\nCeci est une chaine de caract\\xc3\\xa8res particuliers \\xe4\\xbd\\xa0\\xe5\\xa5\\xbd\" <class 'bytes'> 83\n"
     ]
    }
   ],
   "source": [
    "with open('chaine.txt', mode='rb') as f:\n",
    "    b = f.read()\n",
    "print(b, type(b), len(b))"
   ]
  },
  {
   "cell_type": "code",
   "execution_count": 27,
   "metadata": {},
   "outputs": [
    {
     "name": "stdout",
     "output_type": "stream",
     "text": [
      "Ceci est une chaine d'octets\n",
      "Ceci est une chaine de caractères particuliers 你好 <class 'str'>\n"
     ]
    }
   ],
   "source": [
    "txt2 = b.decode('utf8')\n",
    "print(txt2, type(txt2))"
   ]
  },
  {
   "cell_type": "markdown",
   "metadata": {},
   "source": [
    "# Sauvegarde et lecture avec numpy : format texte\n"
   ]
  },
  {
   "cell_type": "markdown",
   "metadata": {},
   "source": [
    "## loadtxt "
   ]
  },
  {
   "cell_type": "code",
   "execution_count": 28,
   "metadata": {},
   "outputs": [
    {
     "name": "stdout",
     "output_type": "stream",
     "text": [
      "[[-12.  56.   4.]\n",
      " [  6.  50.  12.]\n",
      " [  8.  36.   2.]\n",
      " [ 24.  24. -18.]\n",
      " [-12.  22.  28.]\n",
      " [-12.  22.  26.]\n",
      " [-32.  20. -18.]\n",
      " [-28.  16.  32.]\n",
      " [-48.  14.   8.]\n",
      " [-10.  10.  44.]\n",
      " [-34.   8.  38.]\n",
      " [  4.   6.  50.]\n",
      " [  4.   6.  50.]\n",
      " [ 10.   4.  74.]\n",
      " [ -2.   4.  44.]\n",
      " [ 24.   4. -10.]\n",
      " [ 24.   4. -16.]\n",
      " [ 40.   2.  62.]\n",
      " [-54.   2.  38.]\n",
      " [-26.  -4.  70.]]\n"
     ]
    }
   ],
   "source": [
    "import numpy as np\n",
    "\n",
    "data = np.loadtxt('./data/Coords.txt') \n",
    "print (data)\n"
   ]
  },
  {
   "cell_type": "markdown",
   "metadata": {},
   "source": [
    "### par default, delimiter = \"any whitespace\", c.a.d. un ou plusieurs espace et/ou tabulations\n",
    "\n",
    "!!! on ne specifie pas le format avec loadtxt. Il a y de fortes chances que l'on ait a le modifier avec:\n",
    "np.array(data,dtype = 'int') par exemple"
   ]
  },
  {
   "cell_type": "code",
   "execution_count": 29,
   "metadata": {},
   "outputs": [
    {
     "name": "stdout",
     "output_type": "stream",
     "text": [
      "[[-12  56   4]\n",
      " [  6  50  12]\n",
      " [  8  36   2]\n",
      " [ 24  24 -18]\n",
      " [-12  22  28]\n",
      " [-12  22  26]\n",
      " [-32  20 -18]\n",
      " [-28  16  32]\n",
      " [-48  14   8]\n",
      " [-10  10  44]\n",
      " [-34   8  38]\n",
      " [  4   6  50]\n",
      " [  4   6  50]\n",
      " [ 10   4  74]\n",
      " [ -2   4  44]\n",
      " [ 24   4 -10]\n",
      " [ 24   4 -16]\n",
      " [ 40   2  62]\n",
      " [-54   2  38]\n",
      " [-26  -4  70]]\n"
     ]
    }
   ],
   "source": [
    "data_int = np.array( np.loadtxt('./data/Coords.txt') ,dtype = 'int') ### attention quand meme au type 'int'; pour les grandes valeurs, il vaut mieux preferer int64\n",
    "print(data_int)"
   ]
  },
  {
   "cell_type": "markdown",
   "metadata": {},
   "source": [
    "## savetxt"
   ]
  },
  {
   "cell_type": "code",
   "execution_count": 41,
   "metadata": {},
   "outputs": [
    {
     "name": "stdout",
     "output_type": "stream",
     "text": [
      "[[0. 0. 0. ... 0. 0. 0.]\n",
      " [0. 0. 0. ... 0. 0. 0.]\n",
      " [0. 0. 0. ... 0. 0. 0.]\n",
      " ...\n",
      " [0. 0. 0. ... 0. 0. 0.]\n",
      " [0. 0. 0. ... 0. 0. 0.]\n",
      " [0. 0. 0. ... 0. 0. 0.]]\n"
     ]
    }
   ],
   "source": [
    "bigmat = np.zeros(shape = (1000,1000), dtype = \"float32\")\n",
    "print(bigmat)"
   ]
  },
  {
   "cell_type": "code",
   "execution_count": 42,
   "metadata": {
    "tags": []
   },
   "outputs": [],
   "source": [
    "np.savetxt(\"bigmat_f.txt\", bigmat_f, fmt = \"%f\")"
   ]
  },
  {
   "cell_type": "markdown",
   "metadata": {},
   "source": [
    "# Sauvegarde et lecture avec numpy : format .npy, load et save"
   ]
  },
  {
   "cell_type": "code",
   "execution_count": 43,
   "metadata": {},
   "outputs": [],
   "source": [
    "np.save(\"bigmat_f.npy\", bigmat_f)"
   ]
  },
  {
   "cell_type": "markdown",
   "metadata": {},
   "source": [
    "# Concept d'Arborescence"
   ]
  },
  {
   "cell_type": "markdown",
   "metadata": {},
   "source": [
    "![Image](./img/mac_tree.png)     ![Image](./img/win_tree.jpg)    ![Image](./img/linux-tree.png)"
   ]
  },
  {
   "cell_type": "markdown",
   "metadata": {},
   "source": [
    "Racine :\n",
    "\n",
    "    mac et linux : /\n",
    "    \n",
    "    windows : C:\\\n",
    "            \n"
   ]
  },
  {
   "cell_type": "markdown",
   "metadata": {},
   "source": [
    "Chemin absolu :\n",
    "    \n",
    "    linux : /home/alex/projets/formation_python/\n",
    "    \n",
    "    windows : C:\\\\Users\\\\alex\\\\projets\\\\formation_python\\\\   (double\\ car caractère d'échapement)\n",
    "    \n",
    "    mac : /Disque dur/Users/alex/projets/formation_python/"
   ]
  },
  {
   "cell_type": "markdown",
   "metadata": {},
   "source": [
    "Chemin relatif :\n",
    "\n",
    "    ./          là ou je suis actuellement\n",
    "    ../       je remonte d'un dossier par rapport à là ou je suis\n",
    "    \n",
    "    idem windows mais avec \\\n",
    "    \n",
    "    \n",
    "    exemple : np.loadtxt('./data/Coords.txt') \n",
    "    \n",
    "    "
   ]
  },
  {
   "cell_type": "markdown",
   "metadata": {},
   "source": [
    "___\n",
    "## Le module os (Operating System)\n",
    "___\n",
    "\n",
    "\n",
    "### 1 - Prendre de l'information sur le sysème de fichiers\n",
    "\n",
    "+ import os\n",
    "\n",
    "\n",
    "+ os.uname() : infos système\n",
    "\n",
    "\n",
    "+ os.getcwd() : pour obtenir le répertoire en cours\n",
    "\n",
    "\n",
    "+ os.path.abspath(path) : retourne une version absolue du chemin path\n",
    "\n",
    "\n",
    "+ os.path.relpath(path[, start]) : retourne une version relative du chemin path. Par défaut, par rapport au working dir, sinon : spécifier un argument start qui sera le répertoire de base\n",
    "\n",
    "\n",
    "### 2 - Faire des actions sur le système de fichiers\n",
    "\n",
    "+ os.chdir(foldername)  : va dans le répertoire spécifié\n",
    "\n",
    "\n",
    "+ os.mkdir(’mydir’) : crée le répertoire mydir\n",
    "\n",
    "\n",
    "+ os.rename(oldname, newname) : renomme oldname en newname\n",
    "\n",
    "\n",
    "+ os.remove(filename) : efface le fichier filename\n",
    "\n",
    "\n",
    "### 3 - Utilitaires\n",
    "\n",
    "+ os.path.join(morceau1, morceau2) : colle deux morceaux de chemin ensemble  en utilisant les caractères adaptés au système\n",
    "\n",
    "\n",
    "+ os.path.expanduser(\"~\") : retourne le chemin vers le répertoire \"Home\" de l'utilisateur sur la machine\n",
    "\n",
    "\n",
    "+ os.path.split(racine/nomfichier_ou_rep) : permet de séparer la dernière branche de la racine, résultat sous forme de tuple\n",
    "    *ex : (filepath, filename) = os.path.split(\"/Users/admin/Desktop\") \n",
    "    *filename: \"Desktop\"\n",
    "\n",
    "\n",
    "+ os.path.splitext(nomfichier.extension) : sépare le nom de l'extension. Résultat sous forme de tuple\n",
    "\n",
    "\n",
    "+ os.listdir(path) :  prend un nom de chemin et retourne une liste du contenu du répertoire.\n",
    "\n",
    "\n",
    "+ os.path.isfile : pour séparer les fichiers des répertoires. (os.path.isdir existe aussi). isfile prend un nom de chemin et :\n",
    "     *retourne 1 / True si le chemin représente un fichier\n",
    "     *0 / False dans le cas contraire. \n",
    "\n",
    "\n",
    "+ os.walk(top, topdown=True) : à parir de top (repertoire racine), parcourt l'arborescence en descendant si topdown=True, en montant sinon, et renvoie un tuple : (dirpath, dirnames, filenames) qui contient tous les répertoires dirnames rencontrés avec les fichiers filenames qui s'y trouvent\n",
    "\n",
    ">for dossier, sous_dossiers, fichiers in os.walk('/tmp/test'):\n",
    "\n",
    ">        for fichier in fichiers:\n",
    "\n",
    ">            print(os.path.join(dossier, fichier))"
   ]
  },
  {
   "cell_type": "code",
   "execution_count": 26,
   "metadata": {},
   "outputs": [
    {
     "data": {
      "text/plain": [
       "['file_manipulation.ipynb',\n",
       " 'data',\n",
       " 'mafigure.svg',\n",
       " 'loop_index_slice.ipynb',\n",
       " 'xarray.ipynb',\n",
       " 'matplotlib_base.ipynb',\n",
       " 'sklearn.ipynb',\n",
       " 'img',\n",
       " 'numpy_indexing.ipynb',\n",
       " 'mat.txt',\n",
       " 'example.nc',\n",
       " 'numpy_advanced.ipynb',\n",
       " 'Base_language.ipynb',\n",
       " 'numpy_base.ipynb',\n",
       " 'scipy_overview.ipynb',\n",
       " 'toto.txt',\n",
       " '.ipynb_checkpoints',\n",
       " 'bigmat_f.txt',\n",
       " 'bigmat_f.npy',\n",
       " 'jupyter_intro.ipynb',\n",
       " 'pandas_base.ipynb',\n",
       " 'alex.txt',\n",
       " 'chaine.txt']"
      ]
     },
     "execution_count": 26,
     "metadata": {},
     "output_type": "execute_result"
    }
   ],
   "source": [
    "import os\n",
    "os.listdir('./')"
   ]
  },
  {
   "cell_type": "markdown",
   "metadata": {},
   "source": [
    "## Le module pathlib"
   ]
  },
  {
   "cell_type": "code",
   "execution_count": 44,
   "metadata": {},
   "outputs": [
    {
     "data": {
      "text/plain": [
       "PosixPath('/home/samuel')"
      ]
     },
     "execution_count": 44,
     "metadata": {},
     "output_type": "execute_result"
    }
   ],
   "source": [
    "from pathlib import Path\n",
    "\n",
    "home = Path.home()\n",
    "home\n"
   ]
  },
  {
   "cell_type": "code",
   "execution_count": 45,
   "metadata": {},
   "outputs": [
    {
     "data": {
      "text/plain": [
       "PosixPath('/home/samuel/Documents/gdr_neuralnet_school_2021_day1_python/notebooks')"
      ]
     },
     "execution_count": 45,
     "metadata": {},
     "output_type": "execute_result"
    }
   ],
   "source": [
    "ici = Path('.').absolute()\n",
    "ici"
   ]
  },
  {
   "cell_type": "code",
   "execution_count": 46,
   "metadata": {},
   "outputs": [
    {
     "data": {
      "text/plain": [
       "PosixPath('/home/samuel/Documents')"
      ]
     },
     "execution_count": 46,
     "metadata": {},
     "output_type": "execute_result"
    }
   ],
   "source": [
    "doc = home / 'Documents'\n",
    "doc"
   ]
  },
  {
   "cell_type": "code",
   "execution_count": 47,
   "metadata": {},
   "outputs": [
    {
     "name": "stdout",
     "output_type": "stream",
     "text": [
      "/mnt\n",
      "/dev\n",
      "/boot\n",
      "/usr\n",
      "/lost+found\n",
      "/root\n",
      "/sys\n",
      "/lib64\n",
      "/etc\n",
      "/vmlinuz.old\n",
      "/bin\n",
      "/srv\n",
      "/media\n",
      "/lib\n",
      "/lib32\n",
      "/cdrom\n",
      "/proc\n",
      "/opt\n",
      "/run\n",
      "/home\n",
      "/swapfile\n",
      "/var\n",
      "/sbin\n",
      "/vmlinuz\n",
      "/initrd.img.old\n",
      "/initrd.img\n",
      "/tmp\n",
      "/snap\n"
     ]
    }
   ],
   "source": [
    "for item in Path('/').iterdir():\n",
    "    print(item)"
   ]
  },
  {
   "cell_type": "code",
   "execution_count": 48,
   "metadata": {},
   "outputs": [
    {
     "name": "stdout",
     "output_type": "stream",
     "text": [
      "True\n",
      "Figure_1\n",
      ".png\n",
      "/home/samuel\n",
      "/home/samuel\n",
      "/home\n",
      "/\n"
     ]
    }
   ],
   "source": [
    "file_path = Path('/home/samuel/Figure_1.png')\n",
    "\n",
    "print(file_path.is_file())\n",
    "\n",
    "print(file_path.stem)\n",
    "print(file_path.suffix)\n",
    "print(file_path.parent)\n",
    "print(file_path.parents[0])\n",
    "print(file_path.parents[1])\n",
    "print(file_path.parents[2])\n",
    "\n"
   ]
  },
  {
   "cell_type": "code",
   "execution_count": 50,
   "metadata": {},
   "outputs": [
    {
     "name": "stdout",
     "output_type": "stream",
     "text": [
      "/home/samuel/Documents/gdr_neuralnet_school_2021_day1_python/notebooks/numpy_base.ipynb\n",
      "/home/samuel/Documents/gdr_neuralnet_school_2021_day1_python/notebooks/numpy_indexing.ipynb\n",
      "/home/samuel/Documents/gdr_neuralnet_school_2021_day1_python/notebooks/numpy_advanced.ipynb\n"
     ]
    }
   ],
   "source": [
    "ici = Path('.').absolute()\n",
    "\n",
    "for file in ici.glob('n*.ipynb'):\n",
    "    print(file)"
   ]
  }
 ],
 "metadata": {
  "kernelspec": {
   "display_name": "Python 3",
   "language": "python",
   "name": "python3"
  },
  "language_info": {
   "codemirror_mode": {
    "name": "ipython",
    "version": 3
   },
   "file_extension": ".py",
   "mimetype": "text/x-python",
   "name": "python",
   "nbconvert_exporter": "python",
   "pygments_lexer": "ipython3",
   "version": "3.8.10"
  }
 },
 "nbformat": 4,
 "nbformat_minor": 4
}
