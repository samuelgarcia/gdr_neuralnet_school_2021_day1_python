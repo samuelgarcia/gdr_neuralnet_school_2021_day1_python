{
 "cells": [
  {
   "cell_type": "markdown",
   "metadata": {},
   "source": [
    "# Matplotlib base"
   ]
  },
  {
   "cell_type": "code",
   "execution_count": 2,
   "metadata": {},
   "outputs": [],
   "source": [
    "# %matplotlib inline\n",
    "# %matplotlib notebook\n",
    "%matplotlib widget"
   ]
  },
  {
   "cell_type": "code",
   "execution_count": 3,
   "metadata": {},
   "outputs": [],
   "source": [
    "import matplotlib.pyplot as plt\n",
    "import numpy as np"
   ]
  },
  {
   "cell_type": "code",
   "execution_count": 4,
   "metadata": {},
   "outputs": [],
   "source": [
    "a = np.array([3., 5.6,3.3, 4.7,])"
   ]
  },
  {
   "cell_type": "code",
   "execution_count": 5,
   "metadata": {
    "scrolled": true
   },
   "outputs": [
    {
     "data": {
      "application/vnd.jupyter.widget-view+json": {
       "model_id": "9f4018159c764570847dcd9143eb8081",
       "version_major": 2,
       "version_minor": 0
      },
      "text/plain": [
       "Canvas(toolbar=Toolbar(toolitems=[('Home', 'Reset original view', 'home', 'home'), ('Back', 'Back to previous …"
      ]
     },
     "metadata": {},
     "output_type": "display_data"
    },
    {
     "data": {
      "text/plain": [
       "[<matplotlib.lines.Line2D at 0x7f2244d170a0>]"
      ]
     },
     "execution_count": 5,
     "metadata": {},
     "output_type": "execute_result"
    }
   ],
   "source": [
    "    plt.plot(a)"
   ]
  },
  {
   "cell_type": "markdown",
   "metadata": {},
   "source": [
    "# Il faut avoir une approche objet!!\n",
    "\n",
    "De mieux choisir explicitement, si on tarce 2 courbes sur 2 figures ou sur une seule."
   ]
  },
  {
   "cell_type": "code",
   "execution_count": 6,
   "metadata": {},
   "outputs": [
    {
     "data": {
      "application/vnd.jupyter.widget-view+json": {
       "model_id": "192b3e8837d748d4b505e4a9ade7c334",
       "version_major": 2,
       "version_minor": 0
      },
      "text/plain": [
       "Canvas(toolbar=Toolbar(toolitems=[('Home', 'Reset original view', 'home', 'home'), ('Back', 'Back to previous …"
      ]
     },
     "metadata": {},
     "output_type": "display_data"
    },
    {
     "name": "stdout",
     "output_type": "stream",
     "text": [
      "<class 'matplotlib.figure.Figure'>\n",
      "<class 'matplotlib.axes._subplots.AxesSubplot'>\n"
     ]
    },
    {
     "data": {
      "text/plain": [
       "Text(0, 0.5, 'weigth')"
      ]
     },
     "execution_count": 6,
     "metadata": {},
     "output_type": "execute_result"
    }
   ],
   "source": [
    "fig, ax = plt.subplots()\n",
    "print(type(fig))\n",
    "print(type(ax))\n",
    "ax.plot(a)\n",
    "ax.plot(a**2, color='r')\n",
    "ax.set_title('weigth evolution')\n",
    "ax.set_xlabel('age')\n",
    "ax.set_ylabel('weigth')"
   ]
  },
  {
   "cell_type": "markdown",
   "metadata": {},
   "source": [
    "Celà permet aussi de générer une grille de subplot."
   ]
  },
  {
   "cell_type": "code",
   "execution_count": 7,
   "metadata": {},
   "outputs": [
    {
     "data": {
      "application/vnd.jupyter.widget-view+json": {
       "model_id": "0d260e1d306f45c087e490b2eafb67a1",
       "version_major": 2,
       "version_minor": 0
      },
      "text/plain": [
       "Canvas(toolbar=Toolbar(toolitems=[('Home', 'Reset original view', 'home', 'home'), ('Back', 'Back to previous …"
      ]
     },
     "metadata": {},
     "output_type": "display_data"
    }
   ],
   "source": [
    "# on fait une grille\n",
    "fig, axs = plt.subplots(nrows=2, ncols=3)\n",
    "for r in range(2):\n",
    "    for c in range(3):\n",
    "        ax = axs[r,c]\n",
    "        ax.plot(np.random.rand(5))\n",
    "        ax.set_title(f'row{r} col{c}')\n",
    "        ax.set_xticks([])\n",
    "        ax.set_yticks([])\n",
    "fig.savefig('mafigure.svg')\n"
   ]
  },
  {
   "cell_type": "markdown",
   "metadata": {},
   "source": [
    "# 2 variables"
   ]
  },
  {
   "cell_type": "code",
   "execution_count": 8,
   "metadata": {},
   "outputs": [
    {
     "data": {
      "application/vnd.jupyter.widget-view+json": {
       "model_id": "d4a06dd31df845ba97d50249d6404a75",
       "version_major": 2,
       "version_minor": 0
      },
      "text/plain": [
       "Canvas(toolbar=Toolbar(toolitems=[('Home', 'Reset original view', 'home', 'home'), ('Back', 'Back to previous …"
      ]
     },
     "metadata": {},
     "output_type": "display_data"
    },
    {
     "data": {
      "text/plain": [
       "<matplotlib.legend.Legend at 0x7f22426868b0>"
      ]
     },
     "execution_count": 8,
     "metadata": {},
     "output_type": "execute_result"
    }
   ],
   "source": [
    "fig, ax = plt.subplots()\n",
    "a = np.array([1, 1.4, 5, 6.3])\n",
    "w = np.array([10, 15.3, 24, 50.])\n",
    "w2 = w[::-1]\n",
    "ax.plot(a, w, marker='o', linestyle='-', color='m', markerfacecolor='#FF8000', label='animal1')\n",
    "ax.plot(a, w2, marker='*', linestyle='--', color='g', markerfacecolor='#C280FF', label='animal2')\n",
    "ax.set_title('weight evolution')\n",
    "ax.set_xlabel('age')\n",
    "ax.set_ylabel('weight')\n",
    "ax.set_xlim(0,10)\n",
    "ax.set_ylim(0,100)\n",
    "ax.legend()"
   ]
  },
  {
   "cell_type": "markdown",
   "metadata": {
    "collapsed": true
   },
   "source": [
    " # scatter plot\n",
    " pour un nuage de point c'est identique mais sauf le line style"
   ]
  },
  {
   "cell_type": "code",
   "execution_count": 9,
   "metadata": {},
   "outputs": [
    {
     "data": {
      "application/vnd.jupyter.widget-view+json": {
       "model_id": "593c7aa962ff45e5ae633e1b7482bdef",
       "version_major": 2,
       "version_minor": 0
      },
      "text/plain": [
       "Canvas(toolbar=Toolbar(toolitems=[('Home', 'Reset original view', 'home', 'home'), ('Back', 'Back to previous …"
      ]
     },
     "metadata": {},
     "output_type": "display_data"
    },
    {
     "data": {
      "text/plain": [
       "[<matplotlib.lines.Line2D at 0x7f22426198b0>]"
      ]
     },
     "execution_count": 9,
     "metadata": {},
     "output_type": "execute_result"
    }
   ],
   "source": [
    "fig, ax = plt.subplots()\n",
    "x = np.random.randn(200)*2+5\n",
    "y = np.random.randn(200)/2+2\n",
    "ax.plot(x, y, marker='o', linestyle='None', )\n"
   ]
  },
  {
   "cell_type": "code",
   "execution_count": 10,
   "metadata": {},
   "outputs": [
    {
     "data": {
      "application/vnd.jupyter.widget-view+json": {
       "model_id": "20f1a7ab928f48cfa7082d53405637be",
       "version_major": 2,
       "version_minor": 0
      },
      "text/plain": [
       "Canvas(toolbar=Toolbar(toolitems=[('Home', 'Reset original view', 'home', 'home'), ('Back', 'Back to previous …"
      ]
     },
     "metadata": {},
     "output_type": "display_data"
    },
    {
     "data": {
      "text/plain": [
       "<matplotlib.collections.PathCollection at 0x7f22425bc880>"
      ]
     },
     "execution_count": 10,
     "metadata": {},
     "output_type": "execute_result"
    }
   ],
   "source": [
    "fig, ax = plt.subplots()\n",
    "ax.scatter(x, y, marker='o')"
   ]
  },
  {
   "cell_type": "markdown",
   "metadata": {},
   "source": [
    "# Excercice 1\n",
    "\n",
    "\n",
    "Créer un signal sinusoidal de frequence 5Hz entre 0 et 3.s.\n",
    "\n",
    "Aide : il faut créer un vecteur **temps**\n",
    "\n",
    "frequence echantillonage de 1000Hz\n"
   ]
  },
  {
   "cell_type": "markdown",
   "metadata": {
    "collapsed": true
   },
   "source": [
    "# Solution 1"
   ]
  },
  {
   "cell_type": "code",
   "execution_count": 11,
   "metadata": {},
   "outputs": [
    {
     "data": {
      "application/vnd.jupyter.widget-view+json": {
       "model_id": "228b3923399846f29ebd20c2103e0af2",
       "version_major": 2,
       "version_minor": 0
      },
      "text/plain": [
       "Canvas(toolbar=Toolbar(toolitems=[('Home', 'Reset original view', 'home', 'home'), ('Back', 'Back to previous …"
      ]
     },
     "metadata": {},
     "output_type": "display_data"
    },
    {
     "data": {
      "text/plain": [
       "[<matplotlib.lines.Line2D at 0x7f224255e9d0>]"
      ]
     },
     "execution_count": 11,
     "metadata": {},
     "output_type": "execute_result"
    }
   ],
   "source": [
    "freq = 5.\n",
    "sample_rate = 1000.\n",
    "duration = 3.\n",
    "times = np.arange(0, duration, 1/sample_rate)\n",
    "\n",
    "sig = np.sin(times * 2 * np.pi * freq)\n",
    "\n",
    "fig, ax = plt.subplots()\n",
    "ax.plot(times, sig)\n",
    "\n"
   ]
  },
  {
   "cell_type": "markdown",
   "metadata": {},
   "source": [
    "# exercice 2\n",
    "\n",
    "Idem exercice 1 mais avec du bruit blanc.\n",
    "\n"
   ]
  },
  {
   "cell_type": "markdown",
   "metadata": {},
   "source": [
    "# Solution 2"
   ]
  },
  {
   "cell_type": "code",
   "execution_count": 12,
   "metadata": {},
   "outputs": [
    {
     "data": {
      "application/vnd.jupyter.widget-view+json": {
       "model_id": "cbd5c52e084b467e9df42e9d6066a9e6",
       "version_major": 2,
       "version_minor": 0
      },
      "text/plain": [
       "Canvas(toolbar=Toolbar(toolitems=[('Home', 'Reset original view', 'home', 'home'), ('Back', 'Back to previous …"
      ]
     },
     "metadata": {},
     "output_type": "display_data"
    },
    {
     "data": {
      "text/plain": [
       "[<matplotlib.lines.Line2D at 0x7f22424cf490>]"
      ]
     },
     "execution_count": 12,
     "metadata": {},
     "output_type": "execute_result"
    }
   ],
   "source": [
    "freq = 5.\n",
    "sample_rate = 1000\n",
    "times = np.arange(0, 3, 1./sample_rate)\n",
    "sig = np.sin(2*np.pi*freq*times) * 3.5\n",
    "noise = np.random.randn(sig.shape[0]) * .5\n",
    "sig = sig + noise\n",
    "fig, ax = plt.subplots()\n",
    "ax.plot(times, sig)\n",
    "\n"
   ]
  },
  {
   "cell_type": "markdown",
   "metadata": {},
   "source": [
    "# histogram\n",
    "numpy propose une fonction histogram qui renvois count, bins.\n",
    "Attention le vecteur bins correspond au limites de bins donc count.size = bins.size - 1\n"
   ]
  },
  {
   "cell_type": "code",
   "execution_count": 13,
   "metadata": {},
   "outputs": [
    {
     "data": {
      "application/vnd.jupyter.widget-view+json": {
       "model_id": "028e003c0ae94577a0680a12b4e2df17",
       "version_major": 2,
       "version_minor": 0
      },
      "text/plain": [
       "Canvas(toolbar=Toolbar(toolitems=[('Home', 'Reset original view', 'home', 'home'), ('Back', 'Back to previous …"
      ]
     },
     "metadata": {},
     "output_type": "display_data"
    },
    {
     "data": {
      "text/plain": [
       "[<matplotlib.lines.Line2D at 0x7f2242652a30>]"
      ]
     },
     "execution_count": 13,
     "metadata": {},
     "output_type": "execute_result"
    }
   ],
   "source": [
    "#TODO detail du count\n",
    "a = np.concatenate([np.random.randn(1000)*.2-.4, np.random.randn(4000)+1.6])\n",
    "bins = np.arange(-1, 1, .1)\n",
    "count, bins = np.histogram(a, bins=bins)\n",
    "fig, ax = plt.subplots()\n",
    "ax.bar(bins[:-1],count,width=.1)\n",
    "ax.plot(bins[:-1],count, color='r')"
   ]
  },
  {
   "cell_type": "code",
   "execution_count": 14,
   "metadata": {},
   "outputs": [
    {
     "data": {
      "application/vnd.jupyter.widget-view+json": {
       "model_id": "28c248ddebc74858ad15ac85e5f46f2e",
       "version_major": 2,
       "version_minor": 0
      },
      "text/plain": [
       "Canvas(toolbar=Toolbar(toolitems=[('Home', 'Reset original view', 'home', 'home'), ('Back', 'Back to previous …"
      ]
     },
     "metadata": {},
     "output_type": "display_data"
    },
    {
     "data": {
      "text/plain": [
       "(array([  2.,   0.,   5.,   3.,   6.,   8.,  11.,  33.,  89., 178., 305.,\n",
       "        280., 173., 117.,  77., 112.,  91., 133., 128., 158., 168., 184.,\n",
       "        174., 183., 207., 215., 200., 201., 195., 191., 182., 154., 144.,\n",
       "        127.,  97.,  96.,  74.,  77.,  54.,  46.,  31.,  27.,  12.,  17.,\n",
       "         10.,   9.,  10.,   3.,   0.,   3.]),\n",
       " array([-1.83522683, -1.7030535 , -1.57088018, -1.43870685, -1.30653353,\n",
       "        -1.1743602 , -1.04218688, -0.91001355, -0.77784023, -0.6456669 ,\n",
       "        -0.51349358, -0.38132025, -0.24914693, -0.1169736 ,  0.01519972,\n",
       "         0.14737305,  0.27954637,  0.4117197 ,  0.54389302,  0.67606635,\n",
       "         0.80823967,  0.940413  ,  1.07258632,  1.20475965,  1.33693297,\n",
       "         1.4691063 ,  1.60127962,  1.73345295,  1.86562627,  1.9977996 ,\n",
       "         2.12997292,  2.26214625,  2.39431957,  2.5264929 ,  2.65866622,\n",
       "         2.79083955,  2.92301287,  3.0551862 ,  3.18735952,  3.31953285,\n",
       "         3.45170617,  3.5838795 ,  3.71605282,  3.84822615,  3.98039947,\n",
       "         4.1125728 ,  4.24474612,  4.37691945,  4.50909277,  4.6412661 ,\n",
       "         4.77343942]),\n",
       " <BarContainer object of 50 artists>)"
      ]
     },
     "execution_count": 14,
     "metadata": {},
     "output_type": "execute_result"
    }
   ],
   "source": [
    "#plus simplement\n",
    "fig, ax = plt.subplots()\n",
    "ax.hist(a, bins=50)"
   ]
  },
  {
   "cell_type": "markdown",
   "metadata": {},
   "source": [
    "# image"
   ]
  },
  {
   "cell_type": "code",
   "execution_count": 15,
   "metadata": {},
   "outputs": [
    {
     "data": {
      "application/vnd.jupyter.widget-view+json": {
       "model_id": "59d7cfdd830d4d46a06b671fbdd56806",
       "version_major": 2,
       "version_minor": 0
      },
      "text/plain": [
       "Canvas(toolbar=Toolbar(toolitems=[('Home', 'Reset original view', 'home', 'home'), ('Back', 'Back to previous …"
      ]
     },
     "metadata": {},
     "output_type": "display_data"
    },
    {
     "data": {
      "text/plain": [
       "<matplotlib.colorbar.Colorbar at 0x7f224232c4c0>"
      ]
     },
     "execution_count": 15,
     "metadata": {},
     "output_type": "execute_result"
    }
   ],
   "source": [
    "# generationdes data : une belle boite d'oeuf vu du dessus\n",
    "x = np.cos(np.linspace(0, 4*np.pi, 1000))\n",
    "y = np.sin(np.linspace(0, 4*np.pi, 1000))\n",
    "X,Y = np.meshgrid(x,y)\n",
    "data = Y*X\n",
    "\n",
    "# attention interpolation\n",
    "fig, ax = plt.subplots()\n",
    "im = ax.imshow(data, cmap='hot', interpolation='nearest')\n",
    "im.set_clim(-2, 2)\n",
    "fig.colorbar(im, ax=ax)"
   ]
  },
  {
   "cell_type": "markdown",
   "metadata": {},
   "source": [
    "# fill_between"
   ]
  },
  {
   "cell_type": "code",
   "execution_count": 16,
   "metadata": {},
   "outputs": [
    {
     "data": {
      "application/vnd.jupyter.widget-view+json": {
       "model_id": "e38db666584a4380ba1cfaee24a47acf",
       "version_major": 2,
       "version_minor": 0
      },
      "text/plain": [
       "Canvas(toolbar=Toolbar(toolitems=[('Home', 'Reset original view', 'home', 'home'), ('Back', 'Back to previous …"
      ]
     },
     "metadata": {},
     "output_type": "display_data"
    },
    {
     "data": {
      "text/plain": [
       "[<matplotlib.lines.Line2D at 0x7f22403e4a30>]"
      ]
     },
     "execution_count": 16,
     "metadata": {},
     "output_type": "execute_result"
    }
   ],
   "source": [
    "fig, ax = plt.subplots()\n",
    "x = np.arange(0,30, .1)\n",
    "y1 = x**3\n",
    "y2 = x**3.5\n",
    "m = (y1 + y2)/2\n",
    "\n",
    "ax.fill_between(x, y1, y2, color='y', alpha=.4)\n",
    "ax.plot(x, m, color='k')\n"
   ]
  },
  {
   "cell_type": "markdown",
   "metadata": {},
   "source": [
    "# excerice 3\n",
    "\n",
    "  * Générer 9 signaux sinusoidaux de frequence 5Hz entre 0 et 3.s.\n",
    "  * Chaque signal a niveau de bruit de plus en plus grand (faire un peu comme on veut)\n",
    "  * Sur la figure 1 : Afficher chaque signal dans un subplot sur une grille\n",
    "  * Sur la figure 2 : afficher la moyenne et la std."
   ]
  },
  {
   "cell_type": "markdown",
   "metadata": {},
   "source": [
    "# Solution 3"
   ]
  },
  {
   "cell_type": "code",
   "execution_count": 17,
   "metadata": {},
   "outputs": [
    {
     "data": {
      "application/vnd.jupyter.widget-view+json": {
       "model_id": "f7f7f80129b54a4d8f0755a4922f2fad",
       "version_major": 2,
       "version_minor": 0
      },
      "text/plain": [
       "Canvas(toolbar=Toolbar(toolitems=[('Home', 'Reset original view', 'home', 'home'), ('Back', 'Back to previous …"
      ]
     },
     "metadata": {},
     "output_type": "display_data"
    },
    {
     "data": {
      "application/vnd.jupyter.widget-view+json": {
       "model_id": "637382bc01884cc197a6f5428e8a074f",
       "version_major": 2,
       "version_minor": 0
      },
      "text/plain": [
       "Canvas(toolbar=Toolbar(toolitems=[('Home', 'Reset original view', 'home', 'home'), ('Back', 'Back to previous …"
      ]
     },
     "metadata": {},
     "output_type": "display_data"
    },
    {
     "name": "stdout",
     "output_type": "stream",
     "text": [
      "(9, 3000)\n"
     ]
    },
    {
     "data": {
      "text/plain": [
       "<matplotlib.collections.PolyCollection at 0x7f22426d33a0>"
      ]
     },
     "execution_count": 17,
     "metadata": {},
     "output_type": "execute_result"
    }
   ],
   "source": [
    "sampling_rate = 1000.\n",
    "freq = 5.\n",
    "times = np.arange(0,3, 1./sampling_rate)\n",
    "\n",
    "#generate data\n",
    "sigs = []\n",
    "for i in range(9):\n",
    "    sig = np.sin(np.pi*2*freq*times)\n",
    "    noise = np.random.randn(sig.size)*i*.1\n",
    "    sig = sig + noise\n",
    "    sigs.append(sig)\n",
    "\n",
    "fig1, axs = plt.subplots(nrows=3, ncols=3)\n",
    "#axs = axs.reshape(-1)\n",
    "axs = axs.flatten()\n",
    "for i, sig in enumerate(sigs):\n",
    "    ax = axs[i]\n",
    "    ax.plot(times, sig)\n",
    "\n",
    "\n",
    "fig2, ax = plt.subplots()\n",
    "tab_sigs = np.vstack(sigs)\n",
    "print(tab_sigs.shape)\n",
    "\n",
    "m = np.mean(tab_sigs, axis=0)\n",
    "s = np.std(tab_sigs, axis=0)\n",
    "\n",
    "ax.plot(times, m, linewidth=2)\n",
    "ax.fill_between(times, m-s, m+s, color='b', alpha=.4)\n"
   ]
  },
  {
   "cell_type": "code",
   "execution_count": null,
   "metadata": {},
   "outputs": [],
   "source": []
  },
  {
   "cell_type": "code",
   "execution_count": null,
   "metadata": {},
   "outputs": [],
   "source": []
  },
  {
   "cell_type": "code",
   "execution_count": null,
   "metadata": {},
   "outputs": [],
   "source": []
  }
 ],
 "metadata": {
  "kernelspec": {
   "display_name": "Python 3",
   "language": "python",
   "name": "python3"
  },
  "language_info": {
   "codemirror_mode": {
    "name": "ipython",
    "version": 3
   },
   "file_extension": ".py",
   "mimetype": "text/x-python",
   "name": "python",
   "nbconvert_exporter": "python",
   "pygments_lexer": "ipython3",
   "version": "3.8.10"
  }
 },
 "nbformat": 4,
 "nbformat_minor": 1
}
